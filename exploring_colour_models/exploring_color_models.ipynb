{
 "cells": [
  {
   "cell_type": "code",
   "execution_count": 1,
   "id": "362ada5a",
   "metadata": {
    "ExecuteTime": {
     "end_time": "2025-10-10T12:31:31.238922Z",
     "start_time": "2025-10-10T12:31:31.008974Z"
    }
   },
   "outputs": [],
   "source": [
    "import cv2"
   ]
  },
  {
   "cell_type": "code",
   "execution_count": 2,
   "id": "6165a66c",
   "metadata": {
    "ExecuteTime": {
     "end_time": "2025-10-10T12:31:50.613734Z",
     "start_time": "2025-10-10T12:31:50.575103Z"
    }
   },
   "outputs": [],
   "source": [
    "bgr_image=cv2.imread(\"./mountain.jpg\")"
   ]
  },
  {
   "cell_type": "code",
   "execution_count": null,
   "id": "39a982a3",
   "metadata": {},
   "outputs": [],
   "source": [
    "# Convert to grayscale\n",
    "cv2.cvtColor()"
   ]
  },
  {
   "cell_type": "code",
   "execution_count": null,
   "id": "3e168fb6",
   "metadata": {},
   "outputs": [],
   "source": []
  },
  {
   "cell_type": "code",
   "execution_count": null,
   "id": "9a3e5ece",
   "metadata": {},
   "outputs": [],
   "source": []
  },
  {
   "cell_type": "code",
   "execution_count": null,
   "id": "bb4b5b78",
   "metadata": {},
   "outputs": [],
   "source": []
  },
  {
   "cell_type": "code",
   "execution_count": null,
   "id": "4e0cb1c1",
   "metadata": {},
   "outputs": [],
   "source": []
  },
  {
   "cell_type": "code",
   "execution_count": null,
   "id": "59aaa4ef",
   "metadata": {},
   "outputs": [],
   "source": []
  },
  {
   "cell_type": "code",
   "execution_count": null,
   "id": "c57c2b53",
   "metadata": {},
   "outputs": [],
   "source": []
  },
  {
   "cell_type": "code",
   "execution_count": null,
   "id": "405388f7",
   "metadata": {},
   "outputs": [],
   "source": []
  }
 ],
 "metadata": {
  "kernelspec": {
   "display_name": "KNCVU",
   "language": "python",
   "name": "python3"
  },
  "language_info": {
   "codemirror_mode": {
    "name": "ipython",
    "version": 3
   },
   "file_extension": ".py",
   "mimetype": "text/x-python",
   "name": "python",
   "nbconvert_exporter": "python",
   "pygments_lexer": "ipython3",
   "version": "3.13.7"
  }
 },
 "nbformat": 4,
 "nbformat_minor": 5
}
