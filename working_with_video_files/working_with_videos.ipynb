{
 "cells": [
  {
   "cell_type": "code",
   "execution_count": 1,
   "id": "6a52ebb9",
   "metadata": {},
   "outputs": [],
   "source": [
    "import cv2"
   ]
  },
  {
   "cell_type": "code",
   "execution_count": 3,
   "id": "c618f469",
   "metadata": {},
   "outputs": [],
   "source": [
    "# Load the video\n",
    "video=cv2.VideoCapture(\"./mountain.mp4\")"
   ]
  },
  {
   "cell_type": "code",
   "execution_count": 7,
   "id": "0053607e",
   "metadata": {},
   "outputs": [],
   "source": [
    "## Display the video\n",
    "while True:\n",
    "    ret,frame=video.read()\n",
    "    if not ret:\n",
    "        break\n",
    "    cv2.imshow(\"Video Frame\",frame)\n",
    "    if cv2.waitKey(1) & 0xFF == ord('q'):\n",
    "        break\n",
    "\n",
    "## T0 --> f1\n",
    "## wait 1 ms \n",
    "## T1 --> f2\n",
    "\n",
    "video.release()\n",
    "cv2.destroyAllWindows()"
   ]
  },
  {
   "cell_type": "code",
   "execution_count": 10,
   "id": "9315c042",
   "metadata": {},
   "outputs": [],
   "source": [
    "## Write a video\n",
    "\n",
    "video=cv2.VideoCapture(\"./mountain.mp4\")\n",
    "\n",
    "fourcc=cv2.VideoWriter_fourcc(*\"mp4v\")\n",
    "width=int(video.get(cv2.CAP_PROP_FRAME_WIDTH))\n",
    "height=int(video.get(cv2.CAP_PROP_FRAME_HEIGHT))\n",
    "out=cv2.VideoWriter(\"./output.mp4\",fourcc,30,(width,height))\n",
    "\n",
    "while True:\n",
    "    ret, frame=video.read()\n",
    "    if not ret:\n",
    "        break\n",
    "    frame=frame+20\n",
    "    out.write(frame)\n",
    "\n",
    "out.release()\n",
    "video.release()\n",
    "cv2.destroyAllWindows()"
   ]
  },
  {
   "cell_type": "code",
   "execution_count": null,
   "id": "a8145528",
   "metadata": {},
   "outputs": [],
   "source": []
  },
  {
   "cell_type": "code",
   "execution_count": null,
   "id": "5aec59b9",
   "metadata": {},
   "outputs": [],
   "source": []
  },
  {
   "cell_type": "code",
   "execution_count": null,
   "id": "e72baa13",
   "metadata": {},
   "outputs": [],
   "source": []
  },
  {
   "cell_type": "code",
   "execution_count": null,
   "id": "b33bc48b",
   "metadata": {},
   "outputs": [],
   "source": []
  },
  {
   "cell_type": "code",
   "execution_count": null,
   "id": "11c0c5d0",
   "metadata": {},
   "outputs": [],
   "source": []
  },
  {
   "cell_type": "code",
   "execution_count": null,
   "id": "3426c5c1",
   "metadata": {},
   "outputs": [],
   "source": []
  }
 ],
 "metadata": {
  "kernelspec": {
   "display_name": "KNCVU",
   "language": "python",
   "name": "python3"
  },
  "language_info": {
   "codemirror_mode": {
    "name": "ipython",
    "version": 3
   },
   "file_extension": ".py",
   "mimetype": "text/x-python",
   "name": "python",
   "nbconvert_exporter": "python",
   "pygments_lexer": "ipython3",
   "version": "3.13.7"
  }
 },
 "nbformat": 4,
 "nbformat_minor": 5
}
