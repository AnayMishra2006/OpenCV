{
 "cells": [
  {
   "cell_type": "code",
   "execution_count": 1,
   "id": "3946fad9",
   "metadata": {},
   "outputs": [],
   "source": [
    "# !pip install opencv-python\n",
    "# !pip install ipykernel"
   ]
  },
  {
   "cell_type": "code",
   "execution_count": 2,
   "id": "5e6dcd98",
   "metadata": {},
   "outputs": [],
   "source": [
    "import cv2"
   ]
  },
  {
   "cell_type": "code",
   "execution_count": 3,
   "id": "d9e5a8c3",
   "metadata": {},
   "outputs": [],
   "source": [
    "#Read the image\n",
    "image = cv2.imread(\"./mountain.jpeg\")"
   ]
  },
  {
   "cell_type": "code",
   "execution_count": 5,
   "id": "9c7f1d76",
   "metadata": {},
   "outputs": [
    {
     "name": "stdout",
     "output_type": "stream",
     "text": [
      "Image loaded successfully\n"
     ]
    }
   ],
   "source": [
    "## check if image is loaded successfully\n",
    "if image is None:\n",
    "    print(\"Error : Could not load the image\")\n",
    "else:\n",
    "    print(\"Image loaded successfully\")"
   ]
  },
  {
   "cell_type": "code",
   "execution_count": null,
   "id": "95504478",
   "metadata": {},
   "outputs": [],
   "source": [
    "# Display the image\n",
    "cv2.imshow(\"Image windows\",image)  ##Displays the window\n",
    "cv2.waitKey(0)  ##Waits for a key to be pressed\n",
    "cv2.destroyAllWindows()  ##Destroys all windows once the key is pressed"
   ]
  },
  {
   "cell_type": "code",
   "execution_count": 7,
   "id": "d0bd7e61",
   "metadata": {},
   "outputs": [
    {
     "data": {
      "text/plain": [
       "True"
      ]
     },
     "execution_count": 7,
     "metadata": {},
     "output_type": "execute_result"
    }
   ],
   "source": [
    "# Write the image\n",
    "\n",
    "image_new=image + 30\n",
    "cv2.imwrite(\"./output.jpeg\", image_new)"
   ]
  }
 ],
 "metadata": {
  "kernelspec": {
   "display_name": "KNCVU",
   "language": "python",
   "name": "python3"
  },
  "language_info": {
   "codemirror_mode": {
    "name": "ipython",
    "version": 3
   },
   "file_extension": ".py",
   "mimetype": "text/x-python",
   "name": "python",
   "nbconvert_exporter": "python",
   "pygments_lexer": "ipython3",
   "version": "3.13.7"
  }
 },
 "nbformat": 4,
 "nbformat_minor": 5
}
